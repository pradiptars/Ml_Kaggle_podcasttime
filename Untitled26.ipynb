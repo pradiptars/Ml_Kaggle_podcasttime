{
  "cells": [
    {
      "cell_type": "markdown",
      "metadata": {
        "id": "view-in-github",
        "colab_type": "text"
      },
      "source": [
        "<a href=\"https://colab.research.google.com/github/pradiptars/Ml_Kaggle_podcasttime/blob/main/Untitled26.ipynb\" target=\"_parent\"><img src=\"https://colab.research.google.com/assets/colab-badge.svg\" alt=\"Open In Colab\"/></a>"
      ]
    },
    {
      "cell_type": "code",
      "execution_count": null,
      "metadata": {
        "id": "0xThSwHUOviR"
      },
      "outputs": [],
      "source": [
        "import pandas as pd\n",
        "import numpy as np\n",
        "import matplotlib.pyplot as plt\n",
        "import seaborn as sns"
      ]
    },
    {
      "cell_type": "code",
      "execution_count": null,
      "metadata": {
        "id": "iV0IH3hcO9e8"
      },
      "outputs": [],
      "source": [
        "from google.colab import files\n",
        "uploaded = files.upload()"
      ]
    },
    {
      "cell_type": "code",
      "execution_count": null,
      "metadata": {
        "id": "OVuCplbeO_be"
      },
      "outputs": [],
      "source": [
        "from google.colab import files\n",
        "uploaded = files.upload()"
      ]
    },
    {
      "cell_type": "code",
      "execution_count": null,
      "metadata": {
        "id": "2e4HcOgfPjAX"
      },
      "outputs": [],
      "source": [
        "train = pd.read_csv('train.csv')\n",
        "test = pd.read_csv('test.csv')"
      ]
    },
    {
      "cell_type": "code",
      "execution_count": null,
      "metadata": {
        "id": "e1XTKzPYViAU"
      },
      "outputs": [],
      "source": [
        "df = pd.concat([train, test])"
      ]
    },
    {
      "cell_type": "code",
      "execution_count": null,
      "metadata": {
        "id": "l-gGGv8bVj0Z"
      },
      "outputs": [],
      "source": [
        "df.head(2)"
      ]
    },
    {
      "cell_type": "code",
      "execution_count": null,
      "metadata": {
        "id": "uYgg_b4JVnCx"
      },
      "outputs": [],
      "source": [
        "df.select_dtypes(include='object').columns"
      ]
    },
    {
      "cell_type": "markdown",
      "metadata": {
        "id": "5HkqtHZdVr8B"
      },
      "source": [
        "# convert catagorical to **numaric**"
      ]
    },
    {
      "cell_type": "code",
      "execution_count": null,
      "metadata": {
        "id": "2h5mYjwtVpTQ"
      },
      "outputs": [],
      "source": [
        "df['Genre'].value_counts()"
      ]
    },
    {
      "cell_type": "code",
      "execution_count": null,
      "metadata": {
        "id": "vYwZinAnVwMh"
      },
      "outputs": [],
      "source": [
        "order_label = {'Business': 1, 'Comedy' :2 , 'Education': 3, 'Health' : 4, 'Lifestyle' : 5, 'Music' : 6, 'News' : 7, 'Sports' : 8, 'Travel' : 9}\n",
        "df['Genre'] = df['Genre'].map(order_label)"
      ]
    },
    {
      "cell_type": "code",
      "execution_count": null,
      "metadata": {
        "id": "tTl4UiG0Vycw"
      },
      "outputs": [],
      "source": [
        "df['Publication_Time'].value_counts()"
      ]
    },
    {
      "cell_type": "code",
      "execution_count": null,
      "metadata": {
        "id": "OV6mKrhvV1cY"
      },
      "outputs": [],
      "source": [
        "order_label = {'Morning': 1, 'Evening' :2 , 'Night': 3}\n",
        "df['Publication_Time'] = df['Publication_Time'].map(order_label)"
      ]
    },
    {
      "cell_type": "code",
      "execution_count": null,
      "metadata": {
        "id": "wanoMgH5V324"
      },
      "outputs": [],
      "source": [
        "df['Episode_Sentiment'].value_counts()"
      ]
    },
    {
      "cell_type": "code",
      "execution_count": null,
      "metadata": {
        "id": "InlsvWKPWGpR"
      },
      "outputs": [],
      "source": [
        "order_label = {'Positive': 1, 'Neutral' :2 , 'Negative': 3}\n",
        "df['Episode_Sentiment'] = df['Episode_Sentiment'].map(order_label)"
      ]
    },
    {
      "cell_type": "code",
      "execution_count": null,
      "metadata": {
        "id": "z8jvSXKIWIzR"
      },
      "outputs": [],
      "source": [
        "df['Publication_Day'].value_counts()"
      ]
    },
    {
      "cell_type": "code",
      "execution_count": null,
      "metadata": {
        "id": "_o3bJH6uWLN3"
      },
      "outputs": [],
      "source": [
        "order_label = {'Monday': 1, 'Tuesday' :2 , 'Wednesday': 3, 'Thursday' : 4, 'Friday' : 5, 'Saturday' : 6, 'Sunday' : 7}\n",
        "df['Publication_Day'] = df['Publication_Day'].map(order_label)"
      ]
    },
    {
      "cell_type": "code",
      "execution_count": null,
      "metadata": {
        "id": "H6JCm_FfWOPn"
      },
      "outputs": [],
      "source": [
        "df.head(2)"
      ]
    },
    {
      "cell_type": "markdown",
      "metadata": {
        "id": "K_GZ5HCcWUkn"
      },
      "source": [
        "# conVert Episode title\n",
        "\n",
        "\n"
      ]
    },
    {
      "cell_type": "code",
      "execution_count": null,
      "metadata": {
        "id": "uoI1BigWWQHy"
      },
      "outputs": [],
      "source": [
        "import re\n",
        "\n",
        "def remove_strings(df, Episode_Title):\n",
        "  df['Episode_Title'] = df['Episode_Title'].astype(str).apply(lambda x: ''.join(re.findall(r'\\d+', x)))\n",
        "  df['Episode_Title'] = df['Episode_Title'].replace('', pd.NA)  # Replace empty strings with NaN\n",
        "  df['Episode_Title'] = df['Episode_Title'].astype(int)\n",
        "  return df\n",
        "\n",
        "df = remove_strings(df, 'Episode_Title')"
      ]
    },
    {
      "cell_type": "code",
      "execution_count": null,
      "metadata": {
        "id": "xTe_t2yLWbyv"
      },
      "outputs": [],
      "source": [
        "df.head(2)"
      ]
    },
    {
      "cell_type": "markdown",
      "metadata": {
        "id": "DIBD3hJzWiz8"
      },
      "source": [
        "# Filling Missing Value"
      ]
    },
    {
      "cell_type": "code",
      "execution_count": null,
      "metadata": {
        "id": "__OQ_T_qWeX_"
      },
      "outputs": [],
      "source": [
        "df.isnull().sum()"
      ]
    },
    {
      "cell_type": "code",
      "execution_count": null,
      "metadata": {
        "id": "zVxyB2NAWoMQ"
      },
      "outputs": [],
      "source": [
        "sns.heatmap(df.isnull())"
      ]
    },
    {
      "cell_type": "code",
      "execution_count": null,
      "metadata": {
        "id": "DtF_8LVzXELf"
      },
      "outputs": [],
      "source": [
        "df['Genre'] = df['Genre'].fillna(df['Genre'].mode()[0])\n",
        "df['Episode_Length_minutes'] = df['Episode_Length_minutes'].fillna(df['Episode_Title'].mode()[0])\n",
        "df['Publication_Time'] = df['Publication_Time'].fillna(df['Publication_Time'].mode()[0])\n",
        "df['Guest_Popularity_percentage'] = df['Guest_Popularity_percentage'].fillna(df['Guest_Popularity_percentage'].mode()[0])\n",
        "df['Listening_Time_minutes'] = df['Listening_Time_minutes'].fillna(df['Listening_Time_minutes'].mode()[0])"
      ]
    },
    {
      "cell_type": "code",
      "execution_count": null,
      "metadata": {
        "id": "GvDY02cJXQ89"
      },
      "outputs": [],
      "source": [
        "df.head(2)"
      ]
    },
    {
      "cell_type": "code",
      "execution_count": null,
      "metadata": {
        "id": "ufI70an-XYtN"
      },
      "outputs": [],
      "source": [
        "df1 = df.drop(['Podcast_Name'], axis=1)"
      ]
    },
    {
      "cell_type": "code",
      "execution_count": null,
      "metadata": {
        "id": "ROKtPDOSXbxN"
      },
      "outputs": [],
      "source": [
        "df1.head(2)"
      ]
    },
    {
      "cell_type": "code",
      "execution_count": null,
      "metadata": {
        "id": "JbyjlaDWXeTG"
      },
      "outputs": [],
      "source": [
        "sns.heatmap(df1.isnull())"
      ]
    },
    {
      "cell_type": "markdown",
      "metadata": {
        "id": "kH6OF_D5XyNQ"
      },
      "source": [
        "# Data Visualization"
      ]
    },
    {
      "cell_type": "code",
      "execution_count": null,
      "metadata": {
        "id": "rEG5ocdRXjId"
      },
      "outputs": [],
      "source": [
        "sns.heatmap(df1.corr(), cmap='coolwarm', annot=True)"
      ]
    },
    {
      "cell_type": "code",
      "execution_count": null,
      "metadata": {
        "id": "_oPJHNPQX4BM"
      },
      "outputs": [],
      "source": [
        "from scipy import stats"
      ]
    },
    {
      "cell_type": "code",
      "execution_count": null,
      "metadata": {
        "id": "Ag5Aq6AqX-dT"
      },
      "outputs": [],
      "source": [
        "def diagonstic_plot(df1, variable):\n",
        "  plt.figure(figsize=(16,4))\n",
        "  plt.subplot(1,3,1)\n",
        "  sns.distplot(df1[variable], bins=30)\n",
        "  plt.title(\"Histogram\")\n",
        "\n",
        "  plt.subplot(1,3,2)\n",
        "  stats.probplot(df1[variable], dist='norm', plot=plt)\n",
        "  plt.title(\"Q-Q Plot\")\n",
        "\n",
        "  plt.subplot(1,3,3)\n",
        "  sns.boxplot(df1[variable])\n",
        "  plt.title(\"Box Plot\")\n",
        "\n",
        "  plt.subplot(1,3,3)\n",
        "  sns.boxplot(df1[variable])\n",
        "  plt.title(\"Box Plot\")\n",
        "\n",
        "  plt.show()"
      ]
    },
    {
      "cell_type": "code",
      "execution_count": null,
      "metadata": {
        "id": "CGKAhOGoYBbz"
      },
      "outputs": [],
      "source": [
        "num = df1.keys()\n",
        "num"
      ]
    },
    {
      "cell_type": "code",
      "execution_count": null,
      "metadata": {
        "id": "SGbgtdUdYE98"
      },
      "outputs": [],
      "source": [
        "for var in num:\n",
        "  print(\"**********{}*********\", format(var))\n",
        "  diagonstic_plot(df1, var)"
      ]
    },
    {
      "cell_type": "markdown",
      "metadata": {
        "id": "P8f3LGBkZN-4"
      },
      "source": [
        "# Scale and train data"
      ]
    },
    {
      "cell_type": "code",
      "execution_count": null,
      "metadata": {
        "id": "zfH5fGDxYHRr"
      },
      "outputs": [],
      "source": [
        "from sklearn.preprocessing import RobustScaler\n",
        "scaler = RobustScaler()\n",
        "scaler.fit(df1)\n",
        "df1 = scaler.transform(df1)"
      ]
    },
    {
      "cell_type": "code",
      "execution_count": null,
      "metadata": {
        "id": "Gv-ZbCwubvQE"
      },
      "outputs": [],
      "source": [
        "train_len = train.shape[0]\n",
        "X_train = df1[:train_len]\n",
        "X_test = df1[train_len:]\n",
        "y_train = train['Listening_Time_minutes']"
      ]
    },
    {
      "cell_type": "code",
      "execution_count": null,
      "metadata": {
        "id": "auNxoL2pb_Sc"
      },
      "outputs": [],
      "source": [
        "print(X_train.shape)\n",
        "print(X_test.shape)\n",
        "print(y_train.shape)"
      ]
    },
    {
      "cell_type": "code",
      "execution_count": null,
      "metadata": {
        "id": "xzl4WfjkcBRM"
      },
      "outputs": [],
      "source": [
        "y_train"
      ]
    },
    {
      "cell_type": "markdown",
      "metadata": {
        "id": "Cx9tHY2_cJOD"
      },
      "source": [
        "# Cross Validation"
      ]
    },
    {
      "cell_type": "code",
      "execution_count": null,
      "metadata": {
        "id": "5ZHX60e-cDmj"
      },
      "outputs": [],
      "source": [
        "from sklearn.model_selection import KFold, cross_val_score\n",
        "from sklearn.metrics import make_scorer, r2_score"
      ]
    },
    {
      "cell_type": "markdown",
      "metadata": {
        "id": "WmDDPMa-cQMJ"
      },
      "source": [
        "# User define function for all score"
      ]
    },
    {
      "cell_type": "code",
      "execution_count": null,
      "metadata": {
        "id": "n06ojn3OcNVz"
      },
      "outputs": [],
      "source": [
        "def test_model(model, X_train, y_train):\n",
        "    cv = KFold(n_splits=5, shuffle=True, random_state=42)\n",
        "    r2 = make_scorer(r2_score)\n",
        "    r2_val_score = cross_val_score(model, X_train, y_train, cv=cv, scoring=r2)\n",
        "    score = [r2_val_score.mean()]\n",
        "    return score\n"
      ]
    },
    {
      "cell_type": "markdown",
      "metadata": {
        "id": "YZjqQdPrcasg"
      },
      "source": [
        "# Linear Regration"
      ]
    },
    {
      "cell_type": "code",
      "execution_count": null,
      "metadata": {
        "id": "NSyfOzdMcXTC"
      },
      "outputs": [],
      "source": [
        "from sklearn.linear_model import LinearRegression\n",
        "lr = LinearRegression()\n",
        "test_model(lr, X_train, y_train)"
      ]
    },
    {
      "cell_type": "code",
      "execution_count": null,
      "metadata": {
        "id": "iDGY9CO2ceCq"
      },
      "outputs": [],
      "source": [
        "from sklearn.linear_model import Ridge, Lasso\n",
        "ridge = Ridge(alpha=0.1)\n",
        "test_model(ridge, X_train, y_train)"
      ]
    },
    {
      "cell_type": "code",
      "execution_count": null,
      "metadata": {
        "id": "AV1jZTLYclAz"
      },
      "outputs": [],
      "source": [
        "\n",
        "lasso = Lasso(alpha=0.1)\n",
        "test_model(lasso, X_train, y_train)"
      ]
    },
    {
      "cell_type": "code",
      "execution_count": null,
      "metadata": {
        "id": "5IvocYByfl27"
      },
      "outputs": [],
      "source": [
        "!pip install matplotlib-venn"
      ]
    },
    {
      "cell_type": "markdown",
      "metadata": {
        "id": "sY9djbM2dBKP"
      },
      "source": [
        "# Decetion Tree"
      ]
    },
    {
      "cell_type": "code",
      "execution_count": null,
      "metadata": {
        "id": "JVuUX640c9g5"
      },
      "outputs": [],
      "source": [
        "from sklearn.tree import DecisionTreeRegressor\n",
        "dt = DecisionTreeRegressor(random_state=42)\n",
        "test_model(dt, X_train, y_train)"
      ]
    },
    {
      "cell_type": "markdown",
      "source": [
        "# submission file"
      ],
      "metadata": {
        "id": "w3QmoR0rJYuP"
      }
    },
    {
      "cell_type": "code",
      "source": [
        "y_pred = np.exp(dt.predict(X_test))"
      ],
      "metadata": {
        "id": "6IkHm4LDJhwO"
      },
      "execution_count": null,
      "outputs": []
    },
    {
      "cell_type": "code",
      "source": [],
      "metadata": {
        "id": "kq1UVEO3JnoE"
      },
      "execution_count": null,
      "outputs": []
    }
  ],
  "metadata": {
    "colab": {
      "provenance": [],
      "authorship_tag": "ABX9TyNJLyHRNFGYHr7IrX6IL/Hd",
      "include_colab_link": true
    },
    "kernelspec": {
      "display_name": "Python 3",
      "name": "python3"
    },
    "language_info": {
      "name": "python"
    }
  },
  "nbformat": 4,
  "nbformat_minor": 0
}